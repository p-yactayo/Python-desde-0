{
 "cells": [
  {
   "cell_type": "markdown",
   "metadata": {},
   "source": [
    "<h1>Programación estructurada</h1>\n",
    "<h2>Temas:</h2>\n",
    "<ul>\n",
    "    <li>Hola mundo</li>\n",
    "    <li>Tipos de datos</li>\n",
    "    <li>Variables</li>\n",
    "    <li>Comentarios</li>\n",
    "    <li>Operadores aritméticos</li>\n",
    "    <li>Operadores relacionales</li>\n",
    "    <li>Operadores lógicos</li>\n",
    "    <li>Operadores de asignación</li>\n",
    "    <li>Salida de datos</li>\n",
    "    <li>Entrada de datos</li>\n",
    "</ul>"
   ]
  },
  {
   "cell_type": "code",
   "execution_count": 2,
   "metadata": {},
   "outputs": [
    {
     "name": "stdout",
     "output_type": "stream",
     "text": [
      "Hola mundo\n"
     ]
    }
   ],
   "source": [
    "# Hola mundo\n",
    "print(\"Hola mundo\")"
   ]
  },
  {
   "cell_type": "code",
   "execution_count": 7,
   "metadata": {},
   "outputs": [
    {
     "data": {
      "text/plain": [
       "bool"
      ]
     },
     "execution_count": 7,
     "metadata": {},
     "output_type": "execute_result"
    }
   ],
   "source": [
    "# Tipos de datos\n",
    "type(9)\n",
    "type(9.6)\n",
    "type(\"Hola mundo\")\n",
    "type(True)"
   ]
  },
  {
   "cell_type": "code",
   "execution_count": 31,
   "metadata": {},
   "outputs": [
    {
     "name": "stdout",
     "output_type": "stream",
     "text": [
      "<class 'float'>\n"
     ]
    }
   ],
   "source": [
    "# Variables\n",
    "x = 7.8\n",
    "y = True\n",
    "print(type(x))"
   ]
  },
  {
   "cell_type": "code",
   "execution_count": null,
   "metadata": {},
   "outputs": [],
   "source": [
    "# Comentarios simples\n",
    "'''\n",
    "    Comentario\n",
    "    compuesto\n",
    "'''"
   ]
  },
  {
   "cell_type": "code",
   "execution_count": 21,
   "metadata": {},
   "outputs": [
    {
     "name": "stdout",
     "output_type": "stream",
     "text": [
      "14\n",
      "4\n",
      "45\n",
      "2.25\n",
      "8\n",
      "22\n"
     ]
    }
   ],
   "source": [
    "# Operadores aritmeticos\n",
    "print(9 + 5)\n",
    "print(10 - 6)\n",
    "print(5 * 9)\n",
    "print(9 / 4)\n",
    "print(2 ** 3)\n",
    "print((5 + 6) * (3 - 1))"
   ]
  },
  {
   "cell_type": "code",
   "execution_count": 34,
   "metadata": {},
   "outputs": [
    {
     "name": "stdout",
     "output_type": "stream",
     "text": [
      "True\n",
      "10\n",
      "False\n"
     ]
    }
   ],
   "source": [
    "# Operadores relacionales\n",
    "\"\"\"\n",
    ">\n",
    "<\n",
    ">=\n",
    "<=\n",
    "==\n",
    "\"\"\"\n",
    "x = 10\n",
    "i = 3 > 2\n",
    "print(i)\n",
    "print(x)\n",
    "print((3 > 2) == (3 < 1))"
   ]
  },
  {
   "cell_type": "code",
   "execution_count": 1,
   "metadata": {},
   "outputs": [
    {
     "data": {
      "text/plain": [
       "'\\nand\\nor\\nnot\\n'"
      ]
     },
     "execution_count": 1,
     "metadata": {},
     "output_type": "execute_result"
    }
   ],
   "source": [
    "# Operadores logicos\n",
    "\"\"\"\n",
    "and\n",
    "or\n",
    "not\n",
    "\"\"\""
   ]
  },
  {
   "cell_type": "code",
   "execution_count": 39,
   "metadata": {},
   "outputs": [
    {
     "name": "stdout",
     "output_type": "stream",
     "text": [
      "11\n",
      "12\n",
      "10\n",
      "30\n"
     ]
    }
   ],
   "source": [
    "# Operadores de asignacion\n",
    "a = 11\n",
    "print(a)\n",
    "a = a + 1  # a += 1\n",
    "print(a)\n",
    "a -= 2\n",
    "print(a)\n",
    "a *= 3\n",
    "print(a)"
   ]
  },
  {
   "cell_type": "code",
   "execution_count": 57,
   "metadata": {},
   "outputs": [
    {
     "name": "stdout",
     "output_type": "stream",
     "text": [
      "Hola mundo\n",
      "Hola\n",
      "Bienvenido Carlos\n",
      "Bienvenido           Carlos\n",
      "Bienvenido Carlos\n",
      "Max imo\n",
      "Maximo\n",
      "Hola-y-bienvenido-al-curso\n"
     ]
    }
   ],
   "source": [
    "# Salida de datos\n",
    "print(\"Hola mundo\")\n",
    "print(a)\n",
    "saludo = \"Bienvenido\"\n",
    "nombre = \"Carlos\"\n",
    "print(saludo, nombre)\n",
    "print(saludo, nombre, sep=\"           \")\n",
    "saludo_completo = saludo + ' ' + nombre # Concatenar cadenas\n",
    "print(saludo_completo)\n",
    "nombre1 = \"Max\"\n",
    "nombre2 = \"imo\"\n",
    "print(nombre1, nombre2)\n",
    "print(nombre1, nombre2, sep=\"\")\n",
    "a = \"Hola\"\n",
    "b = \"y\"\n",
    "c = \"bienvenido\"\n",
    "d = \"al\"\n",
    "e = \"curso\"\n",
    "print(a, b, c, d, e, sep=\"-\")"
   ]
  },
  {
   "cell_type": "code",
   "execution_count": 64,
   "metadata": {},
   "outputs": [
    {
     "name": "stdout",
     "output_type": "stream",
     "text": [
      "Hola mundo Bienvenido al curso Clase 1\n",
      "\n",
      "Raul Flores\n"
     ]
    }
   ],
   "source": [
    "frase1 = \"Hola mundo\"\n",
    "frase2 = \"Bienvenido al curso\"\n",
    "frase3 = \"Clase 1\"\n",
    "print(frase1, end=\" \")\n",
    "print(frase2, end=\" \")\n",
    "print(frase3)\n",
    "print()\n",
    "#print(frase1, frase2, frase3, sep=\"\\n\")\n",
    "nombre = \"Raul\"\n",
    "apellido = \"Flores\"\n",
    "print(nombre, end=\" \")\n",
    "print(apellido)"
   ]
  },
  {
   "cell_type": "code",
   "execution_count": 9,
   "metadata": {},
   "outputs": [
    {
     "name": "stdout",
     "output_type": "stream",
     "text": [
      "Raul Flores tiene 19 años\n",
      "Raul Flores tiene 19 años.\n",
      "El valor de pi con dos decimales es 3.14\n",
      "\n",
      "\n",
      "            Titulo\n",
      "Parrafo de ancho igual a 20 espacios\n",
      "\n",
      "Asignatura                                              Tema\n"
     ]
    }
   ],
   "source": [
    "# Format\n",
    "nombre = \"Raul\"\n",
    "apellido = \"Flores\"\n",
    "edad = 19\n",
    "print(nombre, apellido, \"tiene\", edad, \"años\")\n",
    "# Imprime la oracion como formato definido\n",
    "print(\"{} {} tiene {} años.\".format(nombre, apellido, edad))\n",
    "# Imprime valores flotantes redondeados\n",
    "pi = 3.1416\n",
    "print(\"El valor de pi con dos decimales es {:.2f}\".format(pi))\n",
    "print(\"\\n\")\n",
    "# Imprime oraciones centradas\n",
    "print(\"{:>18}\".format(\"Titulo\"))\n",
    "print(\"Parrafo de ancho igual a 20 espacios\")\n",
    "print()\n",
    "print(\"{}{:>50}\".format(\"Asignatura\", \"Tema\"))"
   ]
  },
  {
   "cell_type": "code",
   "execution_count": 8,
   "metadata": {},
   "outputs": [
    {
     "name": "stdout",
     "output_type": "stream",
     "text": [
      "Ingrese su nombre: Henry\n",
      "Hola Henry\n"
     ]
    }
   ],
   "source": [
    "# Entrada de datos\n",
    "nombre = input(\"Ingrese su nombre: \")\n",
    "print(\"Hola {}\".format(nombre))"
   ]
  },
  {
   "cell_type": "code",
   "execution_count": 104,
   "metadata": {},
   "outputs": [
    {
     "name": "stdout",
     "output_type": "stream",
     "text": [
      "Digite un numero: teclado\n",
      "<class 'str'>\n"
     ]
    }
   ],
   "source": [
    "num1 = input(\"Digite un numero: \")\n",
    "print(type(num1))"
   ]
  },
  {
   "cell_type": "code",
   "execution_count": 112,
   "metadata": {},
   "outputs": [
    {
     "name": "stdout",
     "output_type": "stream",
     "text": [
      "Digite un numero: 5\n",
      "Digite otro numero: 4\n",
      "La suma de ambos numeros es 9\n"
     ]
    }
   ],
   "source": [
    "num1 = int(input(\"Digite un numero: \"))\n",
    "num2 = int(input(\"Digite otro numero: \"))\n",
    "print(\"La suma de ambos numeros es {}\".format(num1 + num2))"
   ]
  },
  {
   "cell_type": "code",
   "execution_count": 109,
   "metadata": {},
   "outputs": [
    {
     "name": "stdout",
     "output_type": "stream",
     "text": [
      "<class 'str'>\n"
     ]
    },
    {
     "ename": "ValueError",
     "evalue": "invalid literal for int() with base 10: 'Hola'",
     "output_type": "error",
     "traceback": [
      "\u001b[1;31m---------------------------------------------------------------------------\u001b[0m",
      "\u001b[1;31mValueError\u001b[0m                                Traceback (most recent call last)",
      "\u001b[1;32m<ipython-input-109-a7d1f87e118a>\u001b[0m in \u001b[0;36m<module>\u001b[1;34m\u001b[0m\n\u001b[0;32m      1\u001b[0m \u001b[0mx\u001b[0m \u001b[1;33m=\u001b[0m \u001b[1;34m\"Hola\"\u001b[0m\u001b[1;33m\u001b[0m\u001b[1;33m\u001b[0m\u001b[0m\n\u001b[0;32m      2\u001b[0m \u001b[0mprint\u001b[0m\u001b[1;33m(\u001b[0m\u001b[0mtype\u001b[0m\u001b[1;33m(\u001b[0m\u001b[0mx\u001b[0m\u001b[1;33m)\u001b[0m\u001b[1;33m)\u001b[0m\u001b[1;33m\u001b[0m\u001b[1;33m\u001b[0m\u001b[0m\n\u001b[1;32m----> 3\u001b[1;33m \u001b[0mx\u001b[0m \u001b[1;33m=\u001b[0m \u001b[0mint\u001b[0m\u001b[1;33m(\u001b[0m\u001b[0mx\u001b[0m\u001b[1;33m)\u001b[0m\u001b[1;33m\u001b[0m\u001b[1;33m\u001b[0m\u001b[0m\n\u001b[0m\u001b[0;32m      4\u001b[0m \u001b[0mprint\u001b[0m\u001b[1;33m(\u001b[0m\u001b[0mtype\u001b[0m\u001b[1;33m(\u001b[0m\u001b[0mx\u001b[0m\u001b[1;33m)\u001b[0m\u001b[1;33m)\u001b[0m\u001b[1;33m\u001b[0m\u001b[1;33m\u001b[0m\u001b[0m\n",
      "\u001b[1;31mValueError\u001b[0m: invalid literal for int() with base 10: 'Hola'"
     ]
    }
   ],
   "source": [
    "x = \"Hola\"\n",
    "print(type(x))\n",
    "x = int(x)\n",
    "print(type(x))"
   ]
  },
  {
   "cell_type": "code",
   "execution_count": 113,
   "metadata": {},
   "outputs": [
    {
     "name": "stdout",
     "output_type": "stream",
     "text": [
      "96\n"
     ]
    }
   ],
   "source": [
    "a = \"9\"\n",
    "b = \"6\"\n",
    "print(a + b)"
   ]
  },
  {
   "cell_type": "code",
   "execution_count": 6,
   "metadata": {},
   "outputs": [
    {
     "name": "stdout",
     "output_type": "stream",
     "text": [
      "Por favor ingresa tu nombre: Mónica\n",
      "Ingresa tu fecha de nacimiento bajo el formato dd/mm/yy: 13/06/2001\n",
      "Hola Mónica tu fecha de nacimiento es 13/06/2001\n"
     ]
    }
   ],
   "source": [
    "# Ejercicio 1\n",
    "\"\"\"\n",
    "    Pedir al usuario que escriba su nombre y dia de nacimiento.\n",
    "    Luego imprimirlo en el siguiente formato: \"Hola Raúl tu fecha de nacimiento es el dia 15/02/2003.\"\n",
    "\"\"\"\n",
    "Nombre, Nacimiento = input('Por favor ingresa tu nombre: '), input('Ingresa tu fecha de nacimiento bajo el formato dd/mm/yy: ')\n",
    "print('Hola {} tu fecha de nacimiento es {}'.format(Nombre, Nacimiento))"
   ]
  },
  {
   "cell_type": "code",
   "execution_count": 13,
   "metadata": {},
   "outputs": [
    {
     "name": "stdout",
     "output_type": "stream",
     "text": [
      "    o\n",
      "   ooo\n",
      "  ooooo\n",
      " ooooooo\n",
      "ooooooooo\n",
      "\n",
      "    0    \n",
      "   000   \n",
      "  00000  \n",
      " 0000000 \n",
      "000000000\n"
     ]
    }
   ],
   "source": [
    "# Ejercicio 2\n",
    "\"\"\"\n",
    "    Imprimir la siguiente figura (Base 9):\n",
    "        o\n",
    "       ooo\n",
    "      ooooo\n",
    "     ooooooo\n",
    "    ooooooooo\n",
    "\"\"\"\n",
    "print(\"{:>5}\".format(\"o\"))\n",
    "print(\"{:>6}\".format(\"ooo\"))\n",
    "print(\"{:>7}\".format(\"ooooo\"))\n",
    "print(\"{:>8}\".format(\"ooooooo\"))\n",
    "print(\"ooooooooo\")\n",
    "print()\n",
    "print(\"{:^9}\".format(\"0\"))\n",
    "print(\"{:^9}\".format(\"000\"))\n",
    "print(\"{:^9}\".format(\"00000\"))\n",
    "print(\"{:^9}\".format(\"0000000\"))\n",
    "print(\"{:^9}\".format(\"000000000\"))"
   ]
  },
  {
   "cell_type": "markdown",
   "metadata": {},
   "source": [
    "<h1>Estructuras condicionales y repetitivas</h1>\n",
    "<h2>Temas:</h2>\n",
    "<ul>\n",
    "    <li>Estructura if-elif-else</li>\n",
    "    <li>Bucle for</li>\n",
    "    <li>Bucle while</li>\n",
    "    <li>Bucle infinito</li>\n",
    "</ul>"
   ]
  },
  {
   "cell_type": "code",
   "execution_count": 9,
   "metadata": {},
   "outputs": [
    {
     "name": "stdout",
     "output_type": "stream",
     "text": [
      "Usted es mayor de edad\n"
     ]
    }
   ],
   "source": [
    "# Estructura if-elif-else\n",
    "edad = 21\n",
    "if edad <= 10:   # La edad es menor a 10?\n",
    "    # False\n",
    "    print(\"Usted esta en la etapa de la niñez\")\n",
    "elif edad > 10 and edad < 18:     # La edad es mayor a 10 Y menor a 18?\n",
    "       # True  (and)  False\n",
    "       #       False\n",
    "    print(\"Usted esta en la etapa de la adolescencia\")\n",
    "else:     # Si la condiciones iniciales no se cumplen ejecuto el siguiente comando\n",
    "    print(\"Usted es mayor de edad\")"
   ]
  },
  {
   "cell_type": "code",
   "execution_count": 10,
   "metadata": {},
   "outputs": [
    {
     "data": {
      "text/plain": [
       "'\\n    EJEMPLO:\\n    talla = 1.7\\n    peso = 65\\n    imc = peso / talla ^ 2\\n    El usuario posee un IMC igual a 22.5 y su estado es normal.\\n'"
      ]
     },
     "execution_count": 10,
     "metadata": {},
     "output_type": "execute_result"
    }
   ],
   "source": [
    "# Ejercicio 1\n",
    "\"\"\"\n",
    "    Pedir al usuario que ingrese su talla y estatura.\n",
    "    Luego indicar su IMC y el estado.\n",
    "\"\"\"\n",
    "'''\n",
    "    EJEMPLO:\n",
    "    talla = 1.7\n",
    "    peso = 65\n",
    "    imc = peso / talla ^ 2\n",
    "    El usuario posee un IMC igual a 22.5 y su estado es normal.\n",
    "'''"
   ]
  },
  {
   "cell_type": "code",
   "execution_count": 15,
   "metadata": {},
   "outputs": [
    {
     "name": "stdout",
     "output_type": "stream",
     "text": [
      "Ingrese su estatura: 1.7\n",
      "Ingrese su peso: 50\n",
      "El usuario posee un IMC igual a 17.3 y su estado es insuficente.\n"
     ]
    }
   ],
   "source": [
    "talla = float(input(\"Ingrese su estatura: \"))\n",
    "peso = float(input(\"Ingrese su peso: \"))\n",
    "imc = peso / (talla ** 2)\n",
    "if imc <= 18.4:\n",
    "    print(\"El usuario posee un IMC igual a {:.1f} y su estado es insuficente.\".format(imc))\n",
    "elif imc >= 18.5 and imc <= 24.9:\n",
    "    print(\"El usuario posee un IMC igual a {:.1f} y su estado es normal.\".format(imc))\n",
    "elif imc >= 25 and imc <= 29.9:\n",
    "    print(\"El usuario posee un IMC igual a {:.1f} y su estado es sobrepeso.\".format(imc))\n",
    "else:\n",
    "    print(\"El usuario posee un IMC igual a {:.1f} y su estado es obesidad.\".format(imc))"
   ]
  },
  {
   "cell_type": "code",
   "execution_count": 23,
   "metadata": {},
   "outputs": [
    {
     "name": "stdout",
     "output_type": "stream",
     "text": [
      "0\n",
      "Hola\n",
      "1\n",
      "Hola\n",
      "2\n",
      "Hola\n",
      "3\n",
      "Hola\n",
      "4\n",
      "Hola\n",
      "5\n",
      "Hola\n",
      "6\n",
      "Hola\n",
      "7\n",
      "Hola\n",
      "8\n",
      "Hola\n",
      "9\n",
      "Hola\n"
     ]
    }
   ],
   "source": [
    "# Bucle for\n",
    "for i in range(10):    # 0, 1, 2, 3, 4, 5, 6, 7, 8, 9\n",
    "    print(i)           # 0, 1, 2, .... , n-1\n",
    "    print(\"Hola\")"
   ]
  },
  {
   "cell_type": "code",
   "execution_count": 30,
   "metadata": {},
   "outputs": [
    {
     "name": "stdout",
     "output_type": "stream",
     "text": [
      "La sumatoria de 10 es igual a: 55\n",
      "El factorial de 5 es igual a: 120\n"
     ]
    }
   ],
   "source": [
    "# Ejercicio 2\n",
    "'''\n",
    "    Sumatoria de 10\n",
    "'''\n",
    "x = 10\n",
    "aux = 0\n",
    "for i in range(x + 1):\n",
    "    aux += i\n",
    "print(\"La sumatoria de 10 es igual a: {}\".format(aux))\n",
    "\n",
    "# Ejercicio 2\n",
    "'''\n",
    "    Factorial de 5\n",
    "'''\n",
    "x = 5\n",
    "aux = 1\n",
    "for i in range(1, x + 1):\n",
    "    aux *= i\n",
    "print(\"El factorial de 5 es igual a: {}\".format(aux))"
   ]
  },
  {
   "cell_type": "code",
   "execution_count": 44,
   "metadata": {},
   "outputs": [
    {
     "name": "stdout",
     "output_type": "stream",
     "text": [
      "Numeros pares: \n",
      "0 2 4 6 8 10 12 14 16 18 20 22 24 26 28 30 32 34 36 38 40 \n",
      "Numeros impares: \n",
      "1 3 5 7 9 11 13 15 17 19 21 23 25 27 29 31 33 35 37 39 \n",
      "Multiplos de 7: \n",
      "7 14 21 28 35 42 49 56 63 \n",
      "Numeros del 9 al -9: \n",
      "9 8 7 6 5 4 3 2 1 0 -1 -2 -3 -4 -5 -6 -7 -8 -9 \n",
      "Numeros del -9 al 9: \n",
      "-9 -8 -7 -6 -5 -4 -3 -2 -1 0 1 2 3 4 5 6 7 8 9 "
     ]
    }
   ],
   "source": [
    "# range(punto de inicio, punto final, salto)\n",
    "print(\"Numeros pares: \")\n",
    "for i in range(0, 42, 2):\n",
    "    print(i, end=\" \")\n",
    "print(\"\\nNumeros impares: \")\n",
    "for i in range(1, 40, 2):\n",
    "    print(i, end=\" \")\n",
    "print(\"\\nMultiplos de 7: \")\n",
    "for i in range(7, 70, 7):\n",
    "    print(i, end=\" \")\n",
    "print(\"\\nNumeros del 9 al -9: \")\n",
    "for i in range(9, -10, -1):\n",
    "    print(i, end=\" \")\n",
    "print(\"\\nNumeros del -9 al 9: \")\n",
    "for i in range(-9, 10):\n",
    "    print(i, end=\" \")"
   ]
  },
  {
   "cell_type": "markdown",
   "metadata": {},
   "source": [
    "<h3>Ejercicio For</h3>\n",
    "<p>Imprimir la siguiente forma usando los comandos \"format\" y el bucle \"for\"</p>"
   ]
  },
  {
   "cell_type": "code",
   "execution_count": 51,
   "metadata": {},
   "outputs": [
    {
     "name": "stdout",
     "output_type": "stream",
     "text": [
      "      o      \n",
      "     ooo     \n",
      "    ooooo    \n",
      "   ooooooo   \n",
      "  ooooooooo  \n",
      " ooooooooooo \n",
      "ooooooooooooo\n"
     ]
    }
   ],
   "source": [
    "# Ejercicio For\n",
    "\"\"\"\n",
    "    Imprimir la siguiente forma usando los comandos \"format\" y el bucle \"for\"\n",
    "    (Base 13)\n",
    "       o\n",
    "      ooo\n",
    "     ooooo\n",
    "\"\"\"\n",
    "for i in range(1, 14, 2):\n",
    "    print(\"{:^13}\".format(\"o\" * i))"
   ]
  },
  {
   "cell_type": "code",
   "execution_count": 58,
   "metadata": {},
   "outputs": [
    {
     "name": "stdout",
     "output_type": "stream",
     "text": [
      "Ingrese el tamaño de la base: 17\n",
      "        o        \n",
      "       ooo       \n",
      "      ooooo      \n",
      "     ooooooo     \n",
      "    ooooooooo    \n",
      "   ooooooooooo   \n",
      "  ooooooooooooo  \n",
      " ooooooooooooooo \n",
      "ooooooooooooooooo\n"
     ]
    }
   ],
   "source": [
    "# Ejercicio 3\n",
    "\"\"\"\n",
    "    Imprimir la siguiente forma usando los comandos \"format\" y el bucle \"for\"\n",
    "    Que el usuario decidada el tamaño de la base (debe ser impar).\n",
    "       o\n",
    "      ooo\n",
    "     ooooo\n",
    "\"\"\"\n",
    "n = int(input(\"Ingrese el tamaño de la base: \"))\n",
    "if n % 2 == 0:\n",
    "    print(\"Debe ingresar un numero impar.\")\n",
    "else:\n",
    "    for i in range(1, n + 1, 2):\n",
    "        print((\"{:^\" + str(n) + \"}\").format(\"o\" * i))    # \"{:^\" + str(n) + \"}\" == \"{:^n}\""
   ]
  },
  {
   "cell_type": "code",
   "execution_count": 1,
   "metadata": {},
   "outputs": [
    {
     "name": "stdout",
     "output_type": "stream",
     "text": [
      "Hola\n",
      "Hola\n",
      "Hola\n",
      "Hola\n",
      "Hola\n",
      "Hola\n",
      "Hola\n",
      "Hola\n",
      "Hola\n",
      "Hola\n"
     ]
    }
   ],
   "source": [
    "# Bucle while\n",
    "x = 0\n",
    "while True:\n",
    "    if x < 10: # True\n",
    "        print(\"Hola\")\n",
    "        x += 1\n",
    "    else:\n",
    "        break"
   ]
  },
  {
   "cell_type": "code",
   "execution_count": 1,
   "metadata": {},
   "outputs": [
    {
     "name": "stdout",
     "output_type": "stream",
     "text": [
      "Ingrese el tamaño de la base: 8\n",
      "Debe ingresar un numero impar.\n",
      "Ingrese el tamaño de la base: 10\n",
      "Debe ingresar un numero impar.\n",
      "Ingrese el tamaño de la base: 16\n",
      "Debe ingresar un numero impar.\n",
      "Ingrese el tamaño de la base: 18\n",
      "Debe ingresar un numero impar.\n",
      "Ingrese el tamaño de la base: 22\n",
      "Debe ingresar un numero impar.\n",
      "Ingrese el tamaño de la base: 15\n",
      "       o       \n",
      "      ooo      \n",
      "     ooooo     \n",
      "    ooooooo    \n",
      "   ooooooooo   \n",
      "  ooooooooooo  \n",
      " ooooooooooooo \n",
      "ooooooooooooooo\n"
     ]
    }
   ],
   "source": [
    "while True:\n",
    "    n = int(input(\"Ingrese el tamaño de la base: \"))\n",
    "    if n % 2 == 0:\n",
    "        print(\"Debe ingresar un numero impar.\")\n",
    "        continue\n",
    "    else:\n",
    "        for i in range(1, n + 1, 2):\n",
    "            print((\"{:^\" + str(n) + \"}\").format(\"o\" * i))\n",
    "        break"
   ]
  },
  {
   "cell_type": "code",
   "execution_count": 6,
   "metadata": {},
   "outputs": [
    {
     "name": "stdout",
     "output_type": "stream",
     "text": [
      "Ingrese la clave: clave1\n",
      "Clave incorrecta, ingresela nuevamente.\n",
      "Ingrese la clave: clave2\n",
      "Clave incorrecta, ingresela nuevamente.\n",
      "Ingrese la clave: clave3\n",
      "Clave incorrecta, ingresela nuevamente.\n",
      "Ingrese la clave: clave4\n",
      "Clave incorrecta, ingresela nuevamente.\n",
      "Ingrese la clave: clave5\n",
      "Se le deniega el ingreso al club.\n"
     ]
    }
   ],
   "source": [
    "# Ejercicio 4\n",
    "'''\n",
    "    Pedir al usuario que ingrese la contraseña de entrada (una palabra a tu gusto)\n",
    "    Si el usuario no es capaz de introducirlo en 5 oportunidades\n",
    "    se le debe cancelar la invitación.\n",
    "'''\n",
    "\"\"\"\n",
    "    Ejemplo 1 (Supongamos que la clave es python):\n",
    "    Ingrese la clave: C++\n",
    "    Ingrese la clave: C\n",
    "    Ingrese la clave: C#\n",
    "    Ingrese la clave: HTML\n",
    "    Ingrese la clave: CSS\n",
    "    Se le deniega el ingreso al club.\n",
    "    \n",
    "    Ejemplo 2 (Supongamos que la clave es python):\n",
    "    Ingrese la clave: Python\n",
    "    Bienvenido al club.\n",
    "\"\"\"\n",
    "clave = \"PYTHON\"\n",
    "variable = 0\n",
    "valor = True\n",
    "while valor:\n",
    "    clave_aux = input(\"Ingrese la clave: \")\n",
    "    if clave_aux == clave:\n",
    "        print(\"Bienvenido al club.\")\n",
    "        break\n",
    "    else:\n",
    "        if variable < 4:\n",
    "            print(\"Clave incorrecta, ingresela nuevamente.\")\n",
    "            variable += 1\n",
    "        else:\n",
    "            print(\"Se le deniega el ingreso al club.\")\n",
    "            valor = False"
   ]
  },
  {
   "cell_type": "markdown",
   "metadata": {},
   "source": [
    "<h1>Estructuras de datos</h1>\n",
    "<h2>Temas:</h2>\n",
    "<ul>\n",
    "    <li>Cadenas</li>\n",
    "    <li>Listas</li>\n",
    "    <li>Tuplas</li>\n",
    "    <li>Conjuntos</li>\n",
    "    <li>Diccionarios</li>\n",
    "</ul>"
   ]
  },
  {
   "cell_type": "code",
   "execution_count": 9,
   "metadata": {},
   "outputs": [
    {
     "name": "stdout",
     "output_type": "stream",
     "text": [
      "<class 'str'>\n",
      "m\n",
      "mundo\n"
     ]
    }
   ],
   "source": [
    "# Cadenas\n",
    "#         0123456789......\n",
    "cadena = \"Hola mundo 123\"\n",
    "letra1 = cadena[5]\n",
    "palabra = cadena[5:10]\n",
    "print(type(cadena))\n",
    "print(letra1)\n",
    "print(palabra)"
   ]
  },
  {
   "cell_type": "code",
   "execution_count": 10,
   "metadata": {
    "scrolled": false
   },
   "outputs": [
    {
     "name": "stdout",
     "output_type": "stream",
     "text": [
      "Help on class str in module builtins:\n",
      "\n",
      "class str(object)\n",
      " |  str(object='') -> str\n",
      " |  str(bytes_or_buffer[, encoding[, errors]]) -> str\n",
      " |  \n",
      " |  Create a new string object from the given object. If encoding or\n",
      " |  errors is specified, then the object must expose a data buffer\n",
      " |  that will be decoded using the given encoding and error handler.\n",
      " |  Otherwise, returns the result of object.__str__() (if defined)\n",
      " |  or repr(object).\n",
      " |  encoding defaults to sys.getdefaultencoding().\n",
      " |  errors defaults to 'strict'.\n",
      " |  \n",
      " |  Methods defined here:\n",
      " |  \n",
      " |  __add__(self, value, /)\n",
      " |      Return self+value.\n",
      " |  \n",
      " |  __contains__(self, key, /)\n",
      " |      Return key in self.\n",
      " |  \n",
      " |  __eq__(self, value, /)\n",
      " |      Return self==value.\n",
      " |  \n",
      " |  __format__(self, format_spec, /)\n",
      " |      Return a formatted version of the string as described by format_spec.\n",
      " |  \n",
      " |  __ge__(self, value, /)\n",
      " |      Return self>=value.\n",
      " |  \n",
      " |  __getattribute__(self, name, /)\n",
      " |      Return getattr(self, name).\n",
      " |  \n",
      " |  __getitem__(self, key, /)\n",
      " |      Return self[key].\n",
      " |  \n",
      " |  __getnewargs__(...)\n",
      " |  \n",
      " |  __gt__(self, value, /)\n",
      " |      Return self>value.\n",
      " |  \n",
      " |  __hash__(self, /)\n",
      " |      Return hash(self).\n",
      " |  \n",
      " |  __iter__(self, /)\n",
      " |      Implement iter(self).\n",
      " |  \n",
      " |  __le__(self, value, /)\n",
      " |      Return self<=value.\n",
      " |  \n",
      " |  __len__(self, /)\n",
      " |      Return len(self).\n",
      " |  \n",
      " |  __lt__(self, value, /)\n",
      " |      Return self<value.\n",
      " |  \n",
      " |  __mod__(self, value, /)\n",
      " |      Return self%value.\n",
      " |  \n",
      " |  __mul__(self, value, /)\n",
      " |      Return self*value.\n",
      " |  \n",
      " |  __ne__(self, value, /)\n",
      " |      Return self!=value.\n",
      " |  \n",
      " |  __repr__(self, /)\n",
      " |      Return repr(self).\n",
      " |  \n",
      " |  __rmod__(self, value, /)\n",
      " |      Return value%self.\n",
      " |  \n",
      " |  __rmul__(self, value, /)\n",
      " |      Return value*self.\n",
      " |  \n",
      " |  __sizeof__(self, /)\n",
      " |      Return the size of the string in memory, in bytes.\n",
      " |  \n",
      " |  __str__(self, /)\n",
      " |      Return str(self).\n",
      " |  \n",
      " |  capitalize(self, /)\n",
      " |      Return a capitalized version of the string.\n",
      " |      \n",
      " |      More specifically, make the first character have upper case and the rest lower\n",
      " |      case.\n",
      " |  \n",
      " |  casefold(self, /)\n",
      " |      Return a version of the string suitable for caseless comparisons.\n",
      " |  \n",
      " |  center(self, width, fillchar=' ', /)\n",
      " |      Return a centered string of length width.\n",
      " |      \n",
      " |      Padding is done using the specified fill character (default is a space).\n",
      " |  \n",
      " |  count(...)\n",
      " |      S.count(sub[, start[, end]]) -> int\n",
      " |      \n",
      " |      Return the number of non-overlapping occurrences of substring sub in\n",
      " |      string S[start:end].  Optional arguments start and end are\n",
      " |      interpreted as in slice notation.\n",
      " |  \n",
      " |  encode(self, /, encoding='utf-8', errors='strict')\n",
      " |      Encode the string using the codec registered for encoding.\n",
      " |      \n",
      " |      encoding\n",
      " |        The encoding in which to encode the string.\n",
      " |      errors\n",
      " |        The error handling scheme to use for encoding errors.\n",
      " |        The default is 'strict' meaning that encoding errors raise a\n",
      " |        UnicodeEncodeError.  Other possible values are 'ignore', 'replace' and\n",
      " |        'xmlcharrefreplace' as well as any other name registered with\n",
      " |        codecs.register_error that can handle UnicodeEncodeErrors.\n",
      " |  \n",
      " |  endswith(...)\n",
      " |      S.endswith(suffix[, start[, end]]) -> bool\n",
      " |      \n",
      " |      Return True if S ends with the specified suffix, False otherwise.\n",
      " |      With optional start, test S beginning at that position.\n",
      " |      With optional end, stop comparing S at that position.\n",
      " |      suffix can also be a tuple of strings to try.\n",
      " |  \n",
      " |  expandtabs(self, /, tabsize=8)\n",
      " |      Return a copy where all tab characters are expanded using spaces.\n",
      " |      \n",
      " |      If tabsize is not given, a tab size of 8 characters is assumed.\n",
      " |  \n",
      " |  find(...)\n",
      " |      S.find(sub[, start[, end]]) -> int\n",
      " |      \n",
      " |      Return the lowest index in S where substring sub is found,\n",
      " |      such that sub is contained within S[start:end].  Optional\n",
      " |      arguments start and end are interpreted as in slice notation.\n",
      " |      \n",
      " |      Return -1 on failure.\n",
      " |  \n",
      " |  format(...)\n",
      " |      S.format(*args, **kwargs) -> str\n",
      " |      \n",
      " |      Return a formatted version of S, using substitutions from args and kwargs.\n",
      " |      The substitutions are identified by braces ('{' and '}').\n",
      " |  \n",
      " |  format_map(...)\n",
      " |      S.format_map(mapping) -> str\n",
      " |      \n",
      " |      Return a formatted version of S, using substitutions from mapping.\n",
      " |      The substitutions are identified by braces ('{' and '}').\n",
      " |  \n",
      " |  index(...)\n",
      " |      S.index(sub[, start[, end]]) -> int\n",
      " |      \n",
      " |      Return the lowest index in S where substring sub is found,\n",
      " |      such that sub is contained within S[start:end].  Optional\n",
      " |      arguments start and end are interpreted as in slice notation.\n",
      " |      \n",
      " |      Raises ValueError when the substring is not found.\n",
      " |  \n",
      " |  isalnum(self, /)\n",
      " |      Return True if the string is an alpha-numeric string, False otherwise.\n",
      " |      \n",
      " |      A string is alpha-numeric if all characters in the string are alpha-numeric and\n",
      " |      there is at least one character in the string.\n",
      " |  \n",
      " |  isalpha(self, /)\n",
      " |      Return True if the string is an alphabetic string, False otherwise.\n",
      " |      \n",
      " |      A string is alphabetic if all characters in the string are alphabetic and there\n",
      " |      is at least one character in the string.\n",
      " |  \n",
      " |  isascii(self, /)\n",
      " |      Return True if all characters in the string are ASCII, False otherwise.\n",
      " |      \n",
      " |      ASCII characters have code points in the range U+0000-U+007F.\n",
      " |      Empty string is ASCII too.\n",
      " |  \n",
      " |  isdecimal(self, /)\n",
      " |      Return True if the string is a decimal string, False otherwise.\n",
      " |      \n",
      " |      A string is a decimal string if all characters in the string are decimal and\n",
      " |      there is at least one character in the string.\n",
      " |  \n",
      " |  isdigit(self, /)\n",
      " |      Return True if the string is a digit string, False otherwise.\n",
      " |      \n",
      " |      A string is a digit string if all characters in the string are digits and there\n",
      " |      is at least one character in the string.\n",
      " |  \n",
      " |  isidentifier(self, /)\n",
      " |      Return True if the string is a valid Python identifier, False otherwise.\n",
      " |      \n",
      " |      Call keyword.iskeyword(s) to test whether string s is a reserved identifier,\n",
      " |      such as \"def\" or \"class\".\n",
      " |  \n",
      " |  islower(self, /)\n",
      " |      Return True if the string is a lowercase string, False otherwise.\n",
      " |      \n",
      " |      A string is lowercase if all cased characters in the string are lowercase and\n",
      " |      there is at least one cased character in the string.\n",
      " |  \n",
      " |  isnumeric(self, /)\n",
      " |      Return True if the string is a numeric string, False otherwise.\n",
      " |      \n",
      " |      A string is numeric if all characters in the string are numeric and there is at\n",
      " |      least one character in the string.\n",
      " |  \n",
      " |  isprintable(self, /)\n",
      " |      Return True if the string is printable, False otherwise.\n",
      " |      \n",
      " |      A string is printable if all of its characters are considered printable in\n",
      " |      repr() or if it is empty.\n",
      " |  \n",
      " |  isspace(self, /)\n",
      " |      Return True if the string is a whitespace string, False otherwise.\n",
      " |      \n",
      " |      A string is whitespace if all characters in the string are whitespace and there\n",
      " |      is at least one character in the string.\n",
      " |  \n",
      " |  istitle(self, /)\n",
      " |      Return True if the string is a title-cased string, False otherwise.\n",
      " |      \n",
      " |      In a title-cased string, upper- and title-case characters may only\n",
      " |      follow uncased characters and lowercase characters only cased ones.\n",
      " |  \n",
      " |  isupper(self, /)\n",
      " |      Return True if the string is an uppercase string, False otherwise.\n",
      " |      \n",
      " |      A string is uppercase if all cased characters in the string are uppercase and\n",
      " |      there is at least one cased character in the string.\n",
      " |  \n",
      " |  join(self, iterable, /)\n",
      " |      Concatenate any number of strings.\n",
      " |      \n",
      " |      The string whose method is called is inserted in between each given string.\n",
      " |      The result is returned as a new string.\n",
      " |      \n",
      " |      Example: '.'.join(['ab', 'pq', 'rs']) -> 'ab.pq.rs'\n",
      " |  \n",
      " |  ljust(self, width, fillchar=' ', /)\n",
      " |      Return a left-justified string of length width.\n",
      " |      \n",
      " |      Padding is done using the specified fill character (default is a space).\n",
      " |  \n",
      " |  lower(self, /)\n",
      " |      Return a copy of the string converted to lowercase.\n",
      " |  \n",
      " |  lstrip(self, chars=None, /)\n",
      " |      Return a copy of the string with leading whitespace removed.\n",
      " |      \n",
      " |      If chars is given and not None, remove characters in chars instead.\n",
      " |  \n",
      " |  partition(self, sep, /)\n",
      " |      Partition the string into three parts using the given separator.\n",
      " |      \n",
      " |      This will search for the separator in the string.  If the separator is found,\n",
      " |      returns a 3-tuple containing the part before the separator, the separator\n",
      " |      itself, and the part after it.\n",
      " |      \n",
      " |      If the separator is not found, returns a 3-tuple containing the original string\n",
      " |      and two empty strings.\n",
      " |  \n",
      " |  replace(self, old, new, count=-1, /)\n",
      " |      Return a copy with all occurrences of substring old replaced by new.\n",
      " |      \n",
      " |        count\n",
      " |          Maximum number of occurrences to replace.\n",
      " |          -1 (the default value) means replace all occurrences.\n",
      " |      \n",
      " |      If the optional argument count is given, only the first count occurrences are\n",
      " |      replaced.\n",
      " |  \n",
      " |  rfind(...)\n",
      " |      S.rfind(sub[, start[, end]]) -> int\n",
      " |      \n",
      " |      Return the highest index in S where substring sub is found,\n",
      " |      such that sub is contained within S[start:end].  Optional\n",
      " |      arguments start and end are interpreted as in slice notation.\n",
      " |      \n",
      " |      Return -1 on failure.\n",
      " |  \n",
      " |  rindex(...)\n",
      " |      S.rindex(sub[, start[, end]]) -> int\n",
      " |      \n",
      " |      Return the highest index in S where substring sub is found,\n",
      " |      such that sub is contained within S[start:end].  Optional\n",
      " |      arguments start and end are interpreted as in slice notation.\n",
      " |      \n",
      " |      Raises ValueError when the substring is not found.\n",
      " |  \n",
      " |  rjust(self, width, fillchar=' ', /)\n",
      " |      Return a right-justified string of length width.\n",
      " |      \n",
      " |      Padding is done using the specified fill character (default is a space).\n",
      " |  \n",
      " |  rpartition(self, sep, /)\n",
      " |      Partition the string into three parts using the given separator.\n",
      " |      \n",
      " |      This will search for the separator in the string, starting at the end. If\n",
      " |      the separator is found, returns a 3-tuple containing the part before the\n",
      " |      separator, the separator itself, and the part after it.\n",
      " |      \n",
      " |      If the separator is not found, returns a 3-tuple containing two empty strings\n",
      " |      and the original string.\n",
      " |  \n",
      " |  rsplit(self, /, sep=None, maxsplit=-1)\n",
      " |      Return a list of the words in the string, using sep as the delimiter string.\n",
      " |      \n",
      " |        sep\n",
      " |          The delimiter according which to split the string.\n",
      " |          None (the default value) means split according to any whitespace,\n",
      " |          and discard empty strings from the result.\n",
      " |        maxsplit\n",
      " |          Maximum number of splits to do.\n",
      " |          -1 (the default value) means no limit.\n",
      " |      \n",
      " |      Splits are done starting at the end of the string and working to the front.\n",
      " |  \n",
      " |  rstrip(self, chars=None, /)\n",
      " |      Return a copy of the string with trailing whitespace removed.\n",
      " |      \n",
      " |      If chars is given and not None, remove characters in chars instead.\n",
      " |  \n",
      " |  split(self, /, sep=None, maxsplit=-1)\n",
      " |      Return a list of the words in the string, using sep as the delimiter string.\n",
      " |      \n",
      " |      sep\n",
      " |        The delimiter according which to split the string.\n",
      " |        None (the default value) means split according to any whitespace,\n",
      " |        and discard empty strings from the result.\n",
      " |      maxsplit\n",
      " |        Maximum number of splits to do.\n",
      " |        -1 (the default value) means no limit.\n",
      " |  \n",
      " |  splitlines(self, /, keepends=False)\n",
      " |      Return a list of the lines in the string, breaking at line boundaries.\n",
      " |      \n",
      " |      Line breaks are not included in the resulting list unless keepends is given and\n",
      " |      true.\n",
      " |  \n",
      " |  startswith(...)\n",
      " |      S.startswith(prefix[, start[, end]]) -> bool\n",
      " |      \n",
      " |      Return True if S starts with the specified prefix, False otherwise.\n",
      " |      With optional start, test S beginning at that position.\n",
      " |      With optional end, stop comparing S at that position.\n",
      " |      prefix can also be a tuple of strings to try.\n",
      " |  \n",
      " |  strip(self, chars=None, /)\n",
      " |      Return a copy of the string with leading and trailing whitespace removed.\n",
      " |      \n",
      " |      If chars is given and not None, remove characters in chars instead.\n",
      " |  \n",
      " |  swapcase(self, /)\n",
      " |      Convert uppercase characters to lowercase and lowercase characters to uppercase.\n",
      " |  \n",
      " |  title(self, /)\n",
      " |      Return a version of the string where each word is titlecased.\n",
      " |      \n",
      " |      More specifically, words start with uppercased characters and all remaining\n",
      " |      cased characters have lower case.\n",
      " |  \n",
      " |  translate(self, table, /)\n",
      " |      Replace each character in the string using the given translation table.\n",
      " |      \n",
      " |        table\n",
      " |          Translation table, which must be a mapping of Unicode ordinals to\n",
      " |          Unicode ordinals, strings, or None.\n",
      " |      \n",
      " |      The table must implement lookup/indexing via __getitem__, for instance a\n",
      " |      dictionary or list.  If this operation raises LookupError, the character is\n",
      " |      left untouched.  Characters mapped to None are deleted.\n",
      " |  \n",
      " |  upper(self, /)\n",
      " |      Return a copy of the string converted to uppercase.\n",
      " |  \n",
      " |  zfill(self, width, /)\n",
      " |      Pad a numeric string with zeros on the left, to fill a field of the given width.\n",
      " |      \n",
      " |      The string is never truncated.\n",
      " |  \n",
      " |  ----------------------------------------------------------------------\n",
      " |  Static methods defined here:\n",
      " |  \n",
      " |  __new__(*args, **kwargs) from builtins.type\n",
      " |      Create and return a new object.  See help(type) for accurate signature.\n",
      " |  \n",
      " |  maketrans(...)\n",
      " |      Return a translation table usable for str.translate().\n",
      " |      \n",
      " |      If there is only one argument, it must be a dictionary mapping Unicode\n",
      " |      ordinals (integers) or characters to Unicode ordinals, strings or None.\n",
      " |      Character keys will be then converted to ordinals.\n",
      " |      If there are two arguments, they must be strings of equal length, and\n",
      " |      in the resulting dictionary, each character in x will be mapped to the\n",
      " |      character at the same position in y. If there is a third argument, it\n",
      " |      must be a string, whose characters will be mapped to None in the result.\n",
      "\n"
     ]
    }
   ],
   "source": [
    "help(str)"
   ]
  },
  {
   "cell_type": "code",
   "execution_count": 13,
   "metadata": {},
   "outputs": [
    {
     "name": "stdout",
     "output_type": "stream",
     "text": [
      "Maria\n",
      "1\n"
     ]
    }
   ],
   "source": [
    "#         01234\n",
    "nombre = \"maria\"\n",
    "print(nombre.capitalize())\n",
    "print(nombre.index(\"a\"))"
   ]
  },
  {
   "cell_type": "code",
   "execution_count": 17,
   "metadata": {},
   "outputs": [
    {
     "name": "stdout",
     "output_type": "stream",
     "text": [
      "Ingrese su nombre: Paul#/-\n",
      "La entrada no es un nombre.\n"
     ]
    }
   ],
   "source": [
    "nombre = input(\"Ingrese su nombre: \")\n",
    "if nombre.isalpha():\n",
    "    print(\"Nombre registrado correctamente.\")\n",
    "else:\n",
    "    print(\"La entrada no es un nombre.\")"
   ]
  },
  {
   "cell_type": "code",
   "execution_count": 19,
   "metadata": {},
   "outputs": [
    {
     "name": "stdout",
     "output_type": "stream",
     "text": [
      "Ingrese su numero telefonico: 654asd\n",
      "La entrada no es un numero telefonico.\n"
     ]
    }
   ],
   "source": [
    "numero = input(\"Ingrese su numero telefonico: \")\n",
    "if numero.isdigit():\n",
    "    print(\"Celular registrado correctamente.\")\n",
    "else:\n",
    "    print(\"La entrada no es un numero telefonico.\")"
   ]
  },
  {
   "cell_type": "code",
   "execution_count": 26,
   "metadata": {},
   "outputs": [
    {
     "name": "stdout",
     "output_type": "stream",
     "text": [
      "Ingrese su pais: aRgEnTiNa\n",
      "Usted es peruno.\n"
     ]
    }
   ],
   "source": [
    "entrada = input(\"Ingrese su pais: \")\n",
    "pais = \"argentina\"\n",
    "if entrada.lower() == pais:\n",
    "    print(\"Usted es peruno.\")\n",
    "else:\n",
    "    print(\"Usted no es peruano.\")"
   ]
  },
  {
   "cell_type": "code",
   "execution_count": 36,
   "metadata": {},
   "outputs": [
    {
     "name": "stdout",
     "output_type": "stream",
     "text": [
      "N\n",
      "O\n",
      "M\n",
      "B\n",
      "R\n",
      "E\n",
      "\n",
      "A\n",
      "P\n",
      "E\n",
      "L\n",
      "L\n",
      "I\n",
      "D\n",
      "O\n"
     ]
    }
   ],
   "source": [
    "# CON RANGE\n",
    "#         012345\n",
    "cadena = \"NOMBRE\"\n",
    "tamaño = len(cadena)\n",
    "for i in range(tamaño):\n",
    "    print(cadena[i])\n",
    "print()\n",
    "# SIN RANGE\n",
    "cadena = \"APELLIDO\"\n",
    "for i in cadena:\n",
    "    print(i)"
   ]
  },
  {
   "cell_type": "code",
   "execution_count": 50,
   "metadata": {},
   "outputs": [
    {
     "name": "stdout",
     "output_type": "stream",
     "text": [
      "Ingrese su nombre: luis\n",
      "siul\n",
      "Ingrese su nombre: pedro\n",
      "ordep\n",
      "Ingrese su nombre: leo\n",
      "oel\n"
     ]
    }
   ],
   "source": [
    "# Ejercicio 1\n",
    "\"\"\"\n",
    "    Pedir al usuario que ingrese su nombre\n",
    "    e imprimirlo en orden invertido.\n",
    "\"\"\"\n",
    "# Forma 1\n",
    "nombre=input('Ingrese su nombre: ')\n",
    "t=len(nombre)\n",
    "for i in range(t):\n",
    "    print(nombre[t-1-i], end='')\n",
    "print()\n",
    "# Forma 2\n",
    "usuario = input('Ingrese su nombre: ')\n",
    "for i in range(len(usuario) - 1, -1, -1):\n",
    "    print(usuario[i], end = \"\")\n",
    "print()\n",
    "# Forma 3\n",
    "nombre_2=input(\"Ingrese su nombre: \")\n",
    "print(nombre_2[::-1])"
   ]
  },
  {
   "cell_type": "code",
   "execution_count": 54,
   "metadata": {},
   "outputs": [
    {
     "name": "stdout",
     "output_type": "stream",
     "text": [
      "(1, 2, 3, 4, 5, 6, 7, 8, 9)\n",
      "<class 'tuple'>\n",
      "['a', 'b', 'c', 'd', 'e']\n",
      "<class 'list'>\n"
     ]
    }
   ],
   "source": [
    "# Tupla\n",
    "tupla = (1, 2, 3, 4, 5, 6, 7, 8, 9)\n",
    "print(tupla)\n",
    "print(type(tupla))\n",
    "# Lista\n",
    "lista = [\"a\", \"b\", \"c\", \"d\", \"e\"]\n",
    "print(lista)\n",
    "print(type(lista))"
   ]
  },
  {
   "cell_type": "code",
   "execution_count": 55,
   "metadata": {},
   "outputs": [
    {
     "ename": "TypeError",
     "evalue": "'tuple' object does not support item assignment",
     "output_type": "error",
     "traceback": [
      "\u001b[1;31m---------------------------------------------------------------------------\u001b[0m",
      "\u001b[1;31mTypeError\u001b[0m                                 Traceback (most recent call last)",
      "\u001b[1;32m<ipython-input-55-87f93ae6a097>\u001b[0m in \u001b[0;36m<module>\u001b[1;34m\u001b[0m\n\u001b[0;32m      2\u001b[0m         \u001b[1;31m#0  1  2  3  4\u001b[0m\u001b[1;33m\u001b[0m\u001b[1;33m\u001b[0m\u001b[1;33m\u001b[0m\u001b[0m\n\u001b[0;32m      3\u001b[0m \u001b[0mtupla\u001b[0m \u001b[1;33m=\u001b[0m \u001b[1;33m(\u001b[0m\u001b[1;36m1\u001b[0m\u001b[1;33m,\u001b[0m \u001b[1;36m2\u001b[0m\u001b[1;33m,\u001b[0m \u001b[1;36m3\u001b[0m\u001b[1;33m,\u001b[0m \u001b[1;36m4\u001b[0m\u001b[1;33m,\u001b[0m \u001b[1;36m5\u001b[0m\u001b[1;33m)\u001b[0m\u001b[1;33m\u001b[0m\u001b[1;33m\u001b[0m\u001b[0m\n\u001b[1;32m----> 4\u001b[1;33m \u001b[0mtupla\u001b[0m\u001b[1;33m[\u001b[0m\u001b[1;36m4\u001b[0m\u001b[1;33m]\u001b[0m \u001b[1;33m=\u001b[0m \u001b[1;36m7\u001b[0m\u001b[1;33m\u001b[0m\u001b[1;33m\u001b[0m\u001b[0m\n\u001b[0m\u001b[0;32m      5\u001b[0m \u001b[0mprint\u001b[0m\u001b[1;33m(\u001b[0m\u001b[0mtupla\u001b[0m\u001b[1;33m)\u001b[0m\u001b[1;33m\u001b[0m\u001b[1;33m\u001b[0m\u001b[0m\n",
      "\u001b[1;31mTypeError\u001b[0m: 'tuple' object does not support item assignment"
     ]
    }
   ],
   "source": [
    "# Tupla\n",
    "        #0  1  2  3  4\n",
    "tupla = (1, 2, 3, 4, 5)\n",
    "tupla[4] = 7\n",
    "print(tupla)"
   ]
  },
  {
   "cell_type": "code",
   "execution_count": 56,
   "metadata": {},
   "outputs": [
    {
     "name": "stdout",
     "output_type": "stream",
     "text": [
      "['a', 'b', 'x', 'd', 'e']\n"
     ]
    }
   ],
   "source": [
    "# Lista\n",
    "        # 0    1    2    3    4\n",
    "lista = [\"a\", \"b\", \"c\", \"d\", \"e\"]\n",
    "lista[2] = \"x\"\n",
    "print(lista)"
   ]
  },
  {
   "cell_type": "code",
   "execution_count": 59,
   "metadata": {},
   "outputs": [
    {
     "name": "stdout",
     "output_type": "stream",
     "text": [
      "a\n",
      "b\n",
      "c\n",
      "d\n",
      "e\n",
      "a\n",
      "b\n",
      "c\n",
      "d\n",
      "e\n"
     ]
    }
   ],
   "source": [
    "lista = [\"a\", \"b\", \"c\", \"d\", \"e\"]\n",
    "for i in lista:\n",
    "    print(i)\n",
    "for i in range(len(lista)):\n",
    "    print(lista[i])"
   ]
  },
  {
   "cell_type": "code",
   "execution_count": 60,
   "metadata": {},
   "outputs": [
    {
     "name": "stdout",
     "output_type": "stream",
     "text": [
      "1\n",
      "2\n",
      "3\n",
      "4\n",
      "5\n",
      "1\n",
      "2\n",
      "3\n",
      "4\n",
      "5\n"
     ]
    }
   ],
   "source": [
    "tupla = (1, 2, 3, 4, 5)\n",
    "for i in tupla:\n",
    "    print(i)\n",
    "for i in range(len(tupla)):\n",
    "    print(tupla[i])"
   ]
  },
  {
   "cell_type": "code",
   "execution_count": 62,
   "metadata": {},
   "outputs": [
    {
     "name": "stdout",
     "output_type": "stream",
     "text": [
      "['Luis', 'Alejandro', 'Erick', 'Leo', 'Anthony', 'Roberto']\n",
      "[18, 19, 17, 16, 17, 13]\n"
     ]
    }
   ],
   "source": [
    "alumno = [\"Luis\", \"Alejandro\", \"Erick\", \"Leo\", \"Anthony\"]\n",
    "notas = [18, 19, 17, 16, 17]\n",
    "alumno.append(\"Roberto\")\n",
    "notas.append(13)\n",
    "print(alumno, notas, sep=\"\\n\")"
   ]
  },
  {
   "cell_type": "code",
   "execution_count": 63,
   "metadata": {},
   "outputs": [
    {
     "ename": "AttributeError",
     "evalue": "'tuple' object has no attribute 'append'",
     "output_type": "error",
     "traceback": [
      "\u001b[1;31m---------------------------------------------------------------------------\u001b[0m",
      "\u001b[1;31mAttributeError\u001b[0m                            Traceback (most recent call last)",
      "\u001b[1;32m<ipython-input-63-4f2508c9708d>\u001b[0m in \u001b[0;36m<module>\u001b[1;34m\u001b[0m\n\u001b[0;32m      1\u001b[0m \u001b[0mtupla\u001b[0m \u001b[1;33m=\u001b[0m \u001b[1;33m(\u001b[0m\u001b[1;34m\"Luis\"\u001b[0m\u001b[1;33m,\u001b[0m \u001b[1;34m\"Alejandro\"\u001b[0m\u001b[1;33m,\u001b[0m \u001b[1;34m\"Erick\"\u001b[0m\u001b[1;33m,\u001b[0m \u001b[1;34m\"Leo\"\u001b[0m\u001b[1;33m,\u001b[0m \u001b[1;34m\"Anthony\"\u001b[0m\u001b[1;33m)\u001b[0m\u001b[1;33m\u001b[0m\u001b[1;33m\u001b[0m\u001b[0m\n\u001b[1;32m----> 2\u001b[1;33m \u001b[0mtupla\u001b[0m\u001b[1;33m.\u001b[0m\u001b[0mappend\u001b[0m\u001b[1;33m(\u001b[0m\u001b[1;34m\"Roberto\"\u001b[0m\u001b[1;33m)\u001b[0m\u001b[1;33m\u001b[0m\u001b[1;33m\u001b[0m\u001b[0m\n\u001b[0m\u001b[0;32m      3\u001b[0m \u001b[0mprint\u001b[0m\u001b[1;33m(\u001b[0m\u001b[0mtupla\u001b[0m\u001b[1;33m)\u001b[0m\u001b[1;33m\u001b[0m\u001b[1;33m\u001b[0m\u001b[0m\n",
      "\u001b[1;31mAttributeError\u001b[0m: 'tuple' object has no attribute 'append'"
     ]
    }
   ],
   "source": [
    "tupla = (\"Luis\", \"Alejandro\", \"Erick\", \"Leo\", \"Anthony\")\n",
    "tupla.append(\"Roberto\")\n",
    "print(tupla)"
   ]
  },
  {
   "cell_type": "code",
   "execution_count": 64,
   "metadata": {},
   "outputs": [
    {
     "name": "stdout",
     "output_type": "stream",
     "text": [
      "Help on class list in module builtins:\n",
      "\n",
      "class list(object)\n",
      " |  list(iterable=(), /)\n",
      " |  \n",
      " |  Built-in mutable sequence.\n",
      " |  \n",
      " |  If no argument is given, the constructor creates a new empty list.\n",
      " |  The argument must be an iterable if specified.\n",
      " |  \n",
      " |  Methods defined here:\n",
      " |  \n",
      " |  __add__(self, value, /)\n",
      " |      Return self+value.\n",
      " |  \n",
      " |  __contains__(self, key, /)\n",
      " |      Return key in self.\n",
      " |  \n",
      " |  __delitem__(self, key, /)\n",
      " |      Delete self[key].\n",
      " |  \n",
      " |  __eq__(self, value, /)\n",
      " |      Return self==value.\n",
      " |  \n",
      " |  __ge__(self, value, /)\n",
      " |      Return self>=value.\n",
      " |  \n",
      " |  __getattribute__(self, name, /)\n",
      " |      Return getattr(self, name).\n",
      " |  \n",
      " |  __getitem__(...)\n",
      " |      x.__getitem__(y) <==> x[y]\n",
      " |  \n",
      " |  __gt__(self, value, /)\n",
      " |      Return self>value.\n",
      " |  \n",
      " |  __iadd__(self, value, /)\n",
      " |      Implement self+=value.\n",
      " |  \n",
      " |  __imul__(self, value, /)\n",
      " |      Implement self*=value.\n",
      " |  \n",
      " |  __init__(self, /, *args, **kwargs)\n",
      " |      Initialize self.  See help(type(self)) for accurate signature.\n",
      " |  \n",
      " |  __iter__(self, /)\n",
      " |      Implement iter(self).\n",
      " |  \n",
      " |  __le__(self, value, /)\n",
      " |      Return self<=value.\n",
      " |  \n",
      " |  __len__(self, /)\n",
      " |      Return len(self).\n",
      " |  \n",
      " |  __lt__(self, value, /)\n",
      " |      Return self<value.\n",
      " |  \n",
      " |  __mul__(self, value, /)\n",
      " |      Return self*value.\n",
      " |  \n",
      " |  __ne__(self, value, /)\n",
      " |      Return self!=value.\n",
      " |  \n",
      " |  __repr__(self, /)\n",
      " |      Return repr(self).\n",
      " |  \n",
      " |  __reversed__(self, /)\n",
      " |      Return a reverse iterator over the list.\n",
      " |  \n",
      " |  __rmul__(self, value, /)\n",
      " |      Return value*self.\n",
      " |  \n",
      " |  __setitem__(self, key, value, /)\n",
      " |      Set self[key] to value.\n",
      " |  \n",
      " |  __sizeof__(self, /)\n",
      " |      Return the size of the list in memory, in bytes.\n",
      " |  \n",
      " |  append(self, object, /)\n",
      " |      Append object to the end of the list.\n",
      " |  \n",
      " |  clear(self, /)\n",
      " |      Remove all items from list.\n",
      " |  \n",
      " |  copy(self, /)\n",
      " |      Return a shallow copy of the list.\n",
      " |  \n",
      " |  count(self, value, /)\n",
      " |      Return number of occurrences of value.\n",
      " |  \n",
      " |  extend(self, iterable, /)\n",
      " |      Extend list by appending elements from the iterable.\n",
      " |  \n",
      " |  index(self, value, start=0, stop=9223372036854775807, /)\n",
      " |      Return first index of value.\n",
      " |      \n",
      " |      Raises ValueError if the value is not present.\n",
      " |  \n",
      " |  insert(self, index, object, /)\n",
      " |      Insert object before index.\n",
      " |  \n",
      " |  pop(self, index=-1, /)\n",
      " |      Remove and return item at index (default last).\n",
      " |      \n",
      " |      Raises IndexError if list is empty or index is out of range.\n",
      " |  \n",
      " |  remove(self, value, /)\n",
      " |      Remove first occurrence of value.\n",
      " |      \n",
      " |      Raises ValueError if the value is not present.\n",
      " |  \n",
      " |  reverse(self, /)\n",
      " |      Reverse *IN PLACE*.\n",
      " |  \n",
      " |  sort(self, /, *, key=None, reverse=False)\n",
      " |      Sort the list in ascending order and return None.\n",
      " |      \n",
      " |      The sort is in-place (i.e. the list itself is modified) and stable (i.e. the\n",
      " |      order of two equal elements is maintained).\n",
      " |      \n",
      " |      If a key function is given, apply it once to each list item and sort them,\n",
      " |      ascending or descending, according to their function values.\n",
      " |      \n",
      " |      The reverse flag can be set to sort in descending order.\n",
      " |  \n",
      " |  ----------------------------------------------------------------------\n",
      " |  Static methods defined here:\n",
      " |  \n",
      " |  __new__(*args, **kwargs) from builtins.type\n",
      " |      Create and return a new object.  See help(type) for accurate signature.\n",
      " |  \n",
      " |  ----------------------------------------------------------------------\n",
      " |  Data and other attributes defined here:\n",
      " |  \n",
      " |  __hash__ = None\n",
      "\n"
     ]
    }
   ],
   "source": [
    "help(list)"
   ]
  },
  {
   "cell_type": "code",
   "execution_count": 70,
   "metadata": {},
   "outputs": [
    {
     "name": "stdout",
     "output_type": "stream",
     "text": [
      "[1, 2, 3, 4, 5]\n",
      "[1, 2, 3, 4, 5, 6]\n"
     ]
    }
   ],
   "source": [
    "lista_A = [1, 2, 3, 4, 5]\n",
    "lista_B = lista_A.copy()\n",
    "lista_B.append(6)\n",
    "print(lista_A)\n",
    "print(lista_B)"
   ]
  },
  {
   "cell_type": "code",
   "execution_count": 72,
   "metadata": {},
   "outputs": [
    {
     "name": "stdout",
     "output_type": "stream",
     "text": [
      "4\n",
      "4\n"
     ]
    }
   ],
   "source": [
    "lista = [1, 2, 3, 4, 5, 2, 6, 2, 7, 2]\n",
    "print(lista.count(2))\n",
    "print(lista.index(5))"
   ]
  },
  {
   "cell_type": "code",
   "execution_count": 83,
   "metadata": {},
   "outputs": [
    {
     "name": "stdout",
     "output_type": "stream",
     "text": [
      "[1, 2, 3, 4, 5, 6]\n",
      "[1, 2, 'A', 3, 4, 5, 6]\n",
      "[1, 2, 'A', 3, 4, 5]\n",
      "[1, 2, 'A', 3, 5]\n",
      "[5, 3, 'A', 2, 1]\n"
     ]
    }
   ],
   "source": [
    "#          0  1  2  3  4\n",
    "lista_B = [1, 2, 3, 4, 5]\n",
    "lista_B.append(6)\n",
    "print(lista_B)\n",
    "lista_B.insert(2, \"A\")\n",
    "print(lista_B)\n",
    "lista_B.pop()\n",
    "print(lista_B)\n",
    "lista_B.remove(4)\n",
    "print(lista_B)\n",
    "lista_B.reverse()\n",
    "print(lista_B)"
   ]
  },
  {
   "cell_type": "code",
   "execution_count": 84,
   "metadata": {},
   "outputs": [
    {
     "name": "stdout",
     "output_type": "stream",
     "text": [
      "Help on class tuple in module builtins:\n",
      "\n",
      "class tuple(object)\n",
      " |  tuple(iterable=(), /)\n",
      " |  \n",
      " |  Built-in immutable sequence.\n",
      " |  \n",
      " |  If no argument is given, the constructor returns an empty tuple.\n",
      " |  If iterable is specified the tuple is initialized from iterable's items.\n",
      " |  \n",
      " |  If the argument is a tuple, the return value is the same object.\n",
      " |  \n",
      " |  Built-in subclasses:\n",
      " |      asyncgen_hooks\n",
      " |      UnraisableHookArgs\n",
      " |  \n",
      " |  Methods defined here:\n",
      " |  \n",
      " |  __add__(self, value, /)\n",
      " |      Return self+value.\n",
      " |  \n",
      " |  __contains__(self, key, /)\n",
      " |      Return key in self.\n",
      " |  \n",
      " |  __eq__(self, value, /)\n",
      " |      Return self==value.\n",
      " |  \n",
      " |  __ge__(self, value, /)\n",
      " |      Return self>=value.\n",
      " |  \n",
      " |  __getattribute__(self, name, /)\n",
      " |      Return getattr(self, name).\n",
      " |  \n",
      " |  __getitem__(self, key, /)\n",
      " |      Return self[key].\n",
      " |  \n",
      " |  __getnewargs__(self, /)\n",
      " |  \n",
      " |  __gt__(self, value, /)\n",
      " |      Return self>value.\n",
      " |  \n",
      " |  __hash__(self, /)\n",
      " |      Return hash(self).\n",
      " |  \n",
      " |  __iter__(self, /)\n",
      " |      Implement iter(self).\n",
      " |  \n",
      " |  __le__(self, value, /)\n",
      " |      Return self<=value.\n",
      " |  \n",
      " |  __len__(self, /)\n",
      " |      Return len(self).\n",
      " |  \n",
      " |  __lt__(self, value, /)\n",
      " |      Return self<value.\n",
      " |  \n",
      " |  __mul__(self, value, /)\n",
      " |      Return self*value.\n",
      " |  \n",
      " |  __ne__(self, value, /)\n",
      " |      Return self!=value.\n",
      " |  \n",
      " |  __repr__(self, /)\n",
      " |      Return repr(self).\n",
      " |  \n",
      " |  __rmul__(self, value, /)\n",
      " |      Return value*self.\n",
      " |  \n",
      " |  count(self, value, /)\n",
      " |      Return number of occurrences of value.\n",
      " |  \n",
      " |  index(self, value, start=0, stop=9223372036854775807, /)\n",
      " |      Return first index of value.\n",
      " |      \n",
      " |      Raises ValueError if the value is not present.\n",
      " |  \n",
      " |  ----------------------------------------------------------------------\n",
      " |  Static methods defined here:\n",
      " |  \n",
      " |  __new__(*args, **kwargs) from builtins.type\n",
      " |      Create and return a new object.  See help(type) for accurate signature.\n",
      "\n"
     ]
    }
   ],
   "source": [
    "help(tuple)"
   ]
  },
  {
   "cell_type": "code",
   "execution_count": 86,
   "metadata": {},
   "outputs": [
    {
     "name": "stdout",
     "output_type": "stream",
     "text": [
      "Ingrese una lista de numeros separados por un espacio: 1 2 3 4 5 6 7\n",
      "['1', '2', '3', '4', '5', '6', '7']\n"
     ]
    }
   ],
   "source": [
    "lista = input(\"Ingrese una lista de numeros separados por un espacio: \").split()\n",
    "print(lista)"
   ]
  },
  {
   "cell_type": "code",
   "execution_count": 92,
   "metadata": {},
   "outputs": [
    {
     "name": "stdout",
     "output_type": "stream",
     "text": [
      "Ingrese su nombre cada letra tenga un espacio:       R            I CA     R       D O\n",
      "['R', 'I', 'CA', 'R', 'D', 'O']\n",
      "RICARDO\n"
     ]
    }
   ],
   "source": [
    "nombre = input(\"Ingrese su nombre cada letra tenga un espacio: \").split()\n",
    "print(nombre)\n",
    "print(''.join(nombre))"
   ]
  },
  {
   "cell_type": "code",
   "execution_count": 100,
   "metadata": {},
   "outputs": [
    {
     "name": "stdout",
     "output_type": "stream",
     "text": [
      "Ingrese su nacimiento en el formato dd/mm/yy: 17/01/1998\n",
      "['17', '01', '1998']\n",
      "Su cumpleaños es el día 17 del mes enero\n"
     ]
    }
   ],
   "source": [
    "nacimiento = input(\"Ingrese su nacimiento en el formato dd/mm/yy: \").split(\"/\")\n",
    "print(nacimiento)\n",
    "#           0         1          2          3         4\n",
    "lista = [\"enero\", \"febrero\", \"marzo\"]\n",
    "dia = nacimiento[0]\n",
    "mes = int(nacimiento[1])\n",
    "print(\"Su cumpleaños es el día {} del mes {}\".format(dia, lista[mes - 1]))"
   ]
  },
  {
   "cell_type": "code",
   "execution_count": 111,
   "metadata": {},
   "outputs": [
    {
     "name": "stdout",
     "output_type": "stream",
     "text": [
      "Ingrese su nacimiento en el formato mm/yy: 01/2001\n",
      "Su edad es 20 y cumple 21 el proximo año\n"
     ]
    }
   ],
   "source": [
    "# Ejercicio 2\n",
    "\"\"\"\n",
    "    Pedir al usuario que ingrese su fecha de nacimiento y hallar su edad actual.\n",
    "    Indicar si cumple años este año o el siguiente.\n",
    "    \n",
    "    Ejemplo 1:\n",
    "    Ingrese su nacimiento en el formato mm/yy: 03/2001\n",
    "    Su edad es 19 años y cumple 20 este año.\n",
    "    \n",
    "    Ejemplo 2:\n",
    "    Ingrese su nacimiento en el formato mm/yy: 01/2002\n",
    "    Su edad 19 años y cumple 20 el año próximo.\n",
    "\"\"\"\n",
    "nacimiento = input(\"Ingrese su nacimiento en el formato mm/yy: \").split(\"/\")\n",
    "fecha_nacimiento = []\n",
    "for i in nacimiento:\n",
    "    fecha_nacimiento.append(int(i))\n",
    "fecha_hoy = [2, 2021]\n",
    "#   mes actual      mes de nacimiento\n",
    "if fecha_hoy[0] >= fecha_nacimiento[0]:\n",
    "    edad = fecha_hoy[1] - fecha_nacimiento[1]\n",
    "    cadena = \"el proximo año\"\n",
    "else: # Todavia no cumple años\n",
    "    edad = fecha_hoy[1] - fecha_nacimiento[1] - 1\n",
    "    cadena = \"este año\"\n",
    "print(\"Su edad es {} y cumple {} {}\".format(edad, edad + 1, cadena))"
   ]
  },
  {
   "cell_type": "markdown",
   "metadata": {},
   "source": [
    "<h1>Funciones definidas por el usuario</h1>\n",
    "<h2>Temas:</h2>\n",
    "<ul>\n",
    "    <li>Función simple sin retorno de valor</li>\n",
    "    <li>Función simple con retorno de valor</li>\n",
    "    <li>Funciones con parámetros</li>\n",
    "    <li>Funciones con parámetros por omisión</li>\n",
    "    <li>Funciones con parámetros arbitrarios</li>\n",
    "    <li>Funciones con parámetros empaquetados</li>\n",
    "    <li>Funciones recursivas</li>\n",
    "</ul>"
   ]
  },
  {
   "cell_type": "code",
   "execution_count": null,
   "metadata": {},
   "outputs": [],
   "source": []
  }
 ],
 "metadata": {
  "kernelspec": {
   "display_name": "Python 3",
   "language": "python",
   "name": "python3"
  },
  "language_info": {
   "codemirror_mode": {
    "name": "ipython",
    "version": 3
   },
   "file_extension": ".py",
   "mimetype": "text/x-python",
   "name": "python",
   "nbconvert_exporter": "python",
   "pygments_lexer": "ipython3",
   "version": "3.8.5"
  }
 },
 "nbformat": 4,
 "nbformat_minor": 4
}
