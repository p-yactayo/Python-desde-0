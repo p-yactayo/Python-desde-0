{
 "cells": [
  {
   "cell_type": "markdown",
   "metadata": {},
   "source": [
    "<h1>Programación estructurada</h1>\n",
    "<h2>Temas:</h2>\n",
    "<ul>\n",
    "    <li>Hola mundo</li>\n",
    "    <li>Tipos de datos</li>\n",
    "    <li>Variables</li>\n",
    "    <li>Comentarios</li>\n",
    "    <li>Operadores aritméticos</li>\n",
    "    <li>Operadores relacionales</li>\n",
    "    <li>Operadores lógicos</li>\n",
    "    <li>Operadores de asignación</li>\n",
    "    <li>Salida de datos</li>\n",
    "    <li>Entrada de datos</li>\n",
    "</ul>"
   ]
  },
  {
   "cell_type": "code",
   "execution_count": 2,
   "metadata": {},
   "outputs": [
    {
     "name": "stdout",
     "output_type": "stream",
     "text": [
      "Hola mundo\n"
     ]
    }
   ],
   "source": [
    "# Hola mundo\n",
    "print(\"Hola mundo\")"
   ]
  },
  {
   "cell_type": "code",
   "execution_count": 7,
   "metadata": {},
   "outputs": [
    {
     "data": {
      "text/plain": [
       "bool"
      ]
     },
     "execution_count": 7,
     "metadata": {},
     "output_type": "execute_result"
    }
   ],
   "source": [
    "# Tipos de datos\n",
    "type(9)\n",
    "type(9.6)\n",
    "type(\"Hola mundo\")\n",
    "type(True)"
   ]
  },
  {
   "cell_type": "code",
   "execution_count": 31,
   "metadata": {},
   "outputs": [
    {
     "name": "stdout",
     "output_type": "stream",
     "text": [
      "<class 'float'>\n"
     ]
    }
   ],
   "source": [
    "# Variables\n",
    "x = 7.8\n",
    "y = True\n",
    "print(type(x))"
   ]
  },
  {
   "cell_type": "code",
   "execution_count": null,
   "metadata": {},
   "outputs": [],
   "source": [
    "# Comentarios simples\n",
    "'''\n",
    "    Comentario\n",
    "    compuesto\n",
    "'''"
   ]
  },
  {
   "cell_type": "code",
   "execution_count": 21,
   "metadata": {},
   "outputs": [
    {
     "name": "stdout",
     "output_type": "stream",
     "text": [
      "14\n",
      "4\n",
      "45\n",
      "2.25\n",
      "8\n",
      "22\n"
     ]
    }
   ],
   "source": [
    "# Operadores aritmeticos\n",
    "print(9 + 5)\n",
    "print(10 - 6)\n",
    "print(5 * 9)\n",
    "print(9 / 4)\n",
    "print(2 ** 3)\n",
    "print((5 + 6) * (3 - 1))"
   ]
  },
  {
   "cell_type": "code",
   "execution_count": 34,
   "metadata": {},
   "outputs": [
    {
     "name": "stdout",
     "output_type": "stream",
     "text": [
      "True\n",
      "10\n",
      "False\n"
     ]
    }
   ],
   "source": [
    "# Operadores relacionales\n",
    "\"\"\"\n",
    ">\n",
    "<\n",
    ">=\n",
    "<=\n",
    "==\n",
    "\"\"\"\n",
    "x = 10\n",
    "i = 3 > 2\n",
    "print(i)\n",
    "print(x)\n",
    "print((3 > 2) == (3 < 1))"
   ]
  },
  {
   "cell_type": "code",
   "execution_count": 1,
   "metadata": {},
   "outputs": [
    {
     "data": {
      "text/plain": [
       "'\\nand\\nor\\nnot\\n'"
      ]
     },
     "execution_count": 1,
     "metadata": {},
     "output_type": "execute_result"
    }
   ],
   "source": [
    "# Operadores logicos\n",
    "\"\"\"\n",
    "and\n",
    "or\n",
    "not\n",
    "\"\"\""
   ]
  },
  {
   "cell_type": "code",
   "execution_count": 39,
   "metadata": {},
   "outputs": [
    {
     "name": "stdout",
     "output_type": "stream",
     "text": [
      "11\n",
      "12\n",
      "10\n",
      "30\n"
     ]
    }
   ],
   "source": [
    "# Operadores de asignacion\n",
    "a = 11\n",
    "print(a)\n",
    "a = a + 1  # a += 1\n",
    "print(a)\n",
    "a -= 2\n",
    "print(a)\n",
    "a *= 3\n",
    "print(a)"
   ]
  },
  {
   "cell_type": "code",
   "execution_count": 57,
   "metadata": {},
   "outputs": [
    {
     "name": "stdout",
     "output_type": "stream",
     "text": [
      "Hola mundo\n",
      "Hola\n",
      "Bienvenido Carlos\n",
      "Bienvenido           Carlos\n",
      "Bienvenido Carlos\n",
      "Max imo\n",
      "Maximo\n",
      "Hola-y-bienvenido-al-curso\n"
     ]
    }
   ],
   "source": [
    "# Salida de datos\n",
    "print(\"Hola mundo\")\n",
    "print(a)\n",
    "saludo = \"Bienvenido\"\n",
    "nombre = \"Carlos\"\n",
    "print(saludo, nombre)\n",
    "print(saludo, nombre, sep=\"           \")\n",
    "saludo_completo = saludo + ' ' + nombre # Concatenar cadenas\n",
    "print(saludo_completo)\n",
    "nombre1 = \"Max\"\n",
    "nombre2 = \"imo\"\n",
    "print(nombre1, nombre2)\n",
    "print(nombre1, nombre2, sep=\"\")\n",
    "a = \"Hola\"\n",
    "b = \"y\"\n",
    "c = \"bienvenido\"\n",
    "d = \"al\"\n",
    "e = \"curso\"\n",
    "print(a, b, c, d, e, sep=\"-\")"
   ]
  },
  {
   "cell_type": "code",
   "execution_count": 64,
   "metadata": {},
   "outputs": [
    {
     "name": "stdout",
     "output_type": "stream",
     "text": [
      "Hola mundo Bienvenido al curso Clase 1\n",
      "\n",
      "Raul Flores\n"
     ]
    }
   ],
   "source": [
    "frase1 = \"Hola mundo\"\n",
    "frase2 = \"Bienvenido al curso\"\n",
    "frase3 = \"Clase 1\"\n",
    "print(frase1, end=\" \")\n",
    "print(frase2, end=\" \")\n",
    "print(frase3)\n",
    "print()\n",
    "#print(frase1, frase2, frase3, sep=\"\\n\")\n",
    "nombre = \"Raul\"\n",
    "apellido = \"Flores\"\n",
    "print(nombre, end=\" \")\n",
    "print(apellido)"
   ]
  },
  {
   "cell_type": "code",
   "execution_count": 9,
   "metadata": {},
   "outputs": [
    {
     "name": "stdout",
     "output_type": "stream",
     "text": [
      "Raul Flores tiene 19 años\n",
      "Raul Flores tiene 19 años.\n",
      "El valor de pi con dos decimales es 3.14\n",
      "\n",
      "\n",
      "            Titulo\n",
      "Parrafo de ancho igual a 20 espacios\n",
      "\n",
      "Asignatura                                              Tema\n"
     ]
    }
   ],
   "source": [
    "# Format\n",
    "nombre = \"Raul\"\n",
    "apellido = \"Flores\"\n",
    "edad = 19\n",
    "print(nombre, apellido, \"tiene\", edad, \"años\")\n",
    "# Imprime la oracion como formato definido\n",
    "print(\"{} {} tiene {} años.\".format(nombre, apellido, edad))\n",
    "# Imprime valores flotantes redondeados\n",
    "pi = 3.1416\n",
    "print(\"El valor de pi con dos decimales es {:.2f}\".format(pi))\n",
    "print(\"\\n\")\n",
    "# Imprime oraciones centradas\n",
    "print(\"{:>18}\".format(\"Titulo\"))\n",
    "print(\"Parrafo de ancho igual a 20 espacios\")\n",
    "print()\n",
    "print(\"{}{:>50}\".format(\"Asignatura\", \"Tema\"))"
   ]
  },
  {
   "cell_type": "code",
   "execution_count": 8,
   "metadata": {},
   "outputs": [
    {
     "name": "stdout",
     "output_type": "stream",
     "text": [
      "Ingrese su nombre: Henry\n",
      "Hola Henry\n"
     ]
    }
   ],
   "source": [
    "# Entrada de datos\n",
    "nombre = input(\"Ingrese su nombre: \")\n",
    "print(\"Hola {}\".format(nombre))"
   ]
  },
  {
   "cell_type": "code",
   "execution_count": 104,
   "metadata": {},
   "outputs": [
    {
     "name": "stdout",
     "output_type": "stream",
     "text": [
      "Digite un numero: teclado\n",
      "<class 'str'>\n"
     ]
    }
   ],
   "source": [
    "num1 = input(\"Digite un numero: \")\n",
    "print(type(num1))"
   ]
  },
  {
   "cell_type": "code",
   "execution_count": 112,
   "metadata": {},
   "outputs": [
    {
     "name": "stdout",
     "output_type": "stream",
     "text": [
      "Digite un numero: 5\n",
      "Digite otro numero: 4\n",
      "La suma de ambos numeros es 9\n"
     ]
    }
   ],
   "source": [
    "num1 = int(input(\"Digite un numero: \"))\n",
    "num2 = int(input(\"Digite otro numero: \"))\n",
    "print(\"La suma de ambos numeros es {}\".format(num1 + num2))"
   ]
  },
  {
   "cell_type": "code",
   "execution_count": 109,
   "metadata": {},
   "outputs": [
    {
     "name": "stdout",
     "output_type": "stream",
     "text": [
      "<class 'str'>\n"
     ]
    },
    {
     "ename": "ValueError",
     "evalue": "invalid literal for int() with base 10: 'Hola'",
     "output_type": "error",
     "traceback": [
      "\u001b[1;31m---------------------------------------------------------------------------\u001b[0m",
      "\u001b[1;31mValueError\u001b[0m                                Traceback (most recent call last)",
      "\u001b[1;32m<ipython-input-109-a7d1f87e118a>\u001b[0m in \u001b[0;36m<module>\u001b[1;34m\u001b[0m\n\u001b[0;32m      1\u001b[0m \u001b[0mx\u001b[0m \u001b[1;33m=\u001b[0m \u001b[1;34m\"Hola\"\u001b[0m\u001b[1;33m\u001b[0m\u001b[1;33m\u001b[0m\u001b[0m\n\u001b[0;32m      2\u001b[0m \u001b[0mprint\u001b[0m\u001b[1;33m(\u001b[0m\u001b[0mtype\u001b[0m\u001b[1;33m(\u001b[0m\u001b[0mx\u001b[0m\u001b[1;33m)\u001b[0m\u001b[1;33m)\u001b[0m\u001b[1;33m\u001b[0m\u001b[1;33m\u001b[0m\u001b[0m\n\u001b[1;32m----> 3\u001b[1;33m \u001b[0mx\u001b[0m \u001b[1;33m=\u001b[0m \u001b[0mint\u001b[0m\u001b[1;33m(\u001b[0m\u001b[0mx\u001b[0m\u001b[1;33m)\u001b[0m\u001b[1;33m\u001b[0m\u001b[1;33m\u001b[0m\u001b[0m\n\u001b[0m\u001b[0;32m      4\u001b[0m \u001b[0mprint\u001b[0m\u001b[1;33m(\u001b[0m\u001b[0mtype\u001b[0m\u001b[1;33m(\u001b[0m\u001b[0mx\u001b[0m\u001b[1;33m)\u001b[0m\u001b[1;33m)\u001b[0m\u001b[1;33m\u001b[0m\u001b[1;33m\u001b[0m\u001b[0m\n",
      "\u001b[1;31mValueError\u001b[0m: invalid literal for int() with base 10: 'Hola'"
     ]
    }
   ],
   "source": [
    "x = \"Hola\"\n",
    "print(type(x))\n",
    "x = int(x)\n",
    "print(type(x))"
   ]
  },
  {
   "cell_type": "code",
   "execution_count": 113,
   "metadata": {},
   "outputs": [
    {
     "name": "stdout",
     "output_type": "stream",
     "text": [
      "96\n"
     ]
    }
   ],
   "source": [
    "a = \"9\"\n",
    "b = \"6\"\n",
    "print(a + b)"
   ]
  },
  {
   "cell_type": "code",
   "execution_count": 6,
   "metadata": {},
   "outputs": [
    {
     "name": "stdout",
     "output_type": "stream",
     "text": [
      "Por favor ingresa tu nombre: Mónica\n",
      "Ingresa tu fecha de nacimiento bajo el formato dd/mm/yy: 13/06/2001\n",
      "Hola Mónica tu fecha de nacimiento es 13/06/2001\n"
     ]
    }
   ],
   "source": [
    "# Ejercicio 1\n",
    "\"\"\"\n",
    "    Pedir al usuario que escriba su nombre y dia de nacimiento.\n",
    "    Luego imprimirlo en el siguiente formato: \"Hola Raúl tu fecha de nacimiento es el dia 15/02/2003.\"\n",
    "\"\"\"\n",
    "Nombre, Nacimiento = input('Por favor ingresa tu nombre: '), input('Ingresa tu fecha de nacimiento bajo el formato dd/mm/yy: ')\n",
    "print('Hola {} tu fecha de nacimiento es {}'.format(Nombre, Nacimiento))"
   ]
  },
  {
   "cell_type": "code",
   "execution_count": 13,
   "metadata": {},
   "outputs": [
    {
     "name": "stdout",
     "output_type": "stream",
     "text": [
      "    o\n",
      "   ooo\n",
      "  ooooo\n",
      " ooooooo\n",
      "ooooooooo\n",
      "\n",
      "    0    \n",
      "   000   \n",
      "  00000  \n",
      " 0000000 \n",
      "000000000\n"
     ]
    }
   ],
   "source": [
    "# Ejercicio 2\n",
    "\"\"\"\n",
    "    Imprimir la siguiente figura (Base 9):\n",
    "        o\n",
    "       ooo\n",
    "      ooooo\n",
    "     ooooooo\n",
    "    ooooooooo\n",
    "\"\"\"\n",
    "print(\"{:>5}\".format(\"o\"))\n",
    "print(\"{:>6}\".format(\"ooo\"))\n",
    "print(\"{:>7}\".format(\"ooooo\"))\n",
    "print(\"{:>8}\".format(\"ooooooo\"))\n",
    "print(\"ooooooooo\")\n",
    "print()\n",
    "print(\"{:^9}\".format(\"0\"))\n",
    "print(\"{:^9}\".format(\"000\"))\n",
    "print(\"{:^9}\".format(\"00000\"))\n",
    "print(\"{:^9}\".format(\"0000000\"))\n",
    "print(\"{:^9}\".format(\"000000000\"))"
   ]
  },
  {
   "cell_type": "markdown",
   "metadata": {},
   "source": [
    "<h1>Estructuras condicionales y repetitivas</h1>\n",
    "<h2>Temas:</h2>\n",
    "<ul>\n",
    "    <li>Estructura if-elif-else</li>\n",
    "    <li>Bucle for</li>\n",
    "    <li>Bucle while</li>\n",
    "    <li>Bucle infinito</li>\n",
    "</ul>"
   ]
  },
  {
   "cell_type": "code",
   "execution_count": null,
   "metadata": {},
   "outputs": [],
   "source": []
  },
  {
   "cell_type": "code",
   "execution_count": null,
   "metadata": {},
   "outputs": [],
   "source": []
  },
  {
   "cell_type": "markdown",
   "metadata": {},
   "source": [
    "<h1>Estructuras de datos</h1>\n",
    "<h2>Temas:</h2>\n",
    "<ul>\n",
    "    <li>Cadenas</li>\n",
    "    <li>Listas</li>\n",
    "    <li>Tuplas</li>\n",
    "    <li>Conjuntos</li>\n",
    "    <li>Diccionarios</li>\n",
    "</ul>"
   ]
  },
  {
   "cell_type": "code",
   "execution_count": null,
   "metadata": {},
   "outputs": [],
   "source": []
  },
  {
   "cell_type": "markdown",
   "metadata": {},
   "source": [
    "<h1>Funciones definidas por el usuario</h1>\n",
    "<h2>Temas:</h2>\n",
    "<ul>\n",
    "    <li>Función simple sin retorno de valor</li>\n",
    "    <li>Función simple con retorno de valor</li>\n",
    "    <li>Funciones con parámetros</li>\n",
    "    <li>Funciones con parámetros por omisión</li>\n",
    "    <li>Funciones con parámetros arbitrarios</li>\n",
    "    <li>Funciones con parámetros empaquetados</li>\n",
    "    <li>Funciones recursivas</li>\n",
    "</ul>"
   ]
  },
  {
   "cell_type": "code",
   "execution_count": null,
   "metadata": {},
   "outputs": [],
   "source": []
  }
 ],
 "metadata": {
  "kernelspec": {
   "display_name": "Python 3",
   "language": "python",
   "name": "python3"
  },
  "language_info": {
   "codemirror_mode": {
    "name": "ipython",
    "version": 3
   },
   "file_extension": ".py",
   "mimetype": "text/x-python",
   "name": "python",
   "nbconvert_exporter": "python",
   "pygments_lexer": "ipython3",
   "version": "3.8.5"
  }
 },
 "nbformat": 4,
 "nbformat_minor": 4
}
